{
  "nbformat": 4,
  "nbformat_minor": 0,
  "metadata": {
    "colab": {
      "provenance": []
    },
    "kernelspec": {
      "name": "python3",
      "display_name": "Python 3"
    },
    "language_info": {
      "name": "python"
    },
    "accelerator": "GPU",
    "gpuClass": "premium"
  },
  "cells": [
    {
      "cell_type": "code",
      "execution_count": null,
      "metadata": {
        "colab": {
          "base_uri": "https://localhost:8080/"
        },
        "id": "1guCdXb5fcFv",
        "outputId": "21b21f9c-78a9-4398-eae3-7f947d245abc"
      },
      "outputs": [
        {
          "output_type": "stream",
          "name": "stdout",
          "text": [
            "Mounted at /content/drive\n"
          ]
        }
      ],
      "source": [
        "from google.colab import drive\n",
        "drive.mount('/content/drive')\n",
        "\n",
        "!cp  ./drive/MyDrive/bertscore_cands.pkl bertscore_cands.pkl\n",
        "!cp  ./drive/MyDrive/bertscore_exploded.pkl bertscore_exploded.pkl\n",
        "!cp ./drive/MyDrive/chexpert_embeddings_train.npz chexpert_embeddings_train.npz\n",
        "!cp ./drive/MyDrive/text_embeds_beam_search.npz text_embeds_beam_search.npz"
      ]
    },
    {
      "cell_type": "code",
      "source": [
        "!cp ./drive/MyDrive/chexpert_embeddings_train_final.npz chexpert_embeddings_train_final.npz\n"
      ],
      "metadata": {
        "id": "gSnwV985hD4o"
      },
      "execution_count": null,
      "outputs": []
    },
    {
      "cell_type": "code",
      "source": [
        "import numpy as np\n",
        "text_embeds = np.load('text_embeds_beam_search.npz')['a']"
      ],
      "metadata": {
        "id": "_5Uw1TTte0GW"
      },
      "execution_count": null,
      "outputs": []
    },
    {
      "cell_type": "code",
      "source": [
        "im_embeds = np.load('chexpert_embeddings_train_final.npz')['a']"
      ],
      "metadata": {
        "id": "CQl7Xq9uhIHI"
      },
      "execution_count": null,
      "outputs": []
    },
    {
      "cell_type": "code",
      "source": [
        "import pandas as pd\n",
        "\n",
        "df_exp = pd.read_pickle('bertscore_exploded.pkl')\n",
        "df_cands = pd.read_pickle('bertscore_cands.pkl')\n",
        "df_cands['num_cands'] = df_cands['cands'].apply(len)\n",
        "df_cands['cum_num'] = df_cands['num_cands'].cumsum()\n",
        "l = [0]\n",
        "l.extend(list(df_cands['cum_num'])[:-1])\n",
        "df_cands['start'] = l\n",
        "df_cands['end'] = df_cands['cum_num']\n",
        "df_cands['scores'] = df_cands.apply(lambda x:list(df_exp['score'][x['start']:x['end']]),axis=1)\n",
        "dfc2 = df_cands.reset_index()[['index','cands','refs','scores']].explode(['cands','refs','scores']).reset_index(drop=True)\n",
        "dfc2"
      ],
      "metadata": {
        "colab": {
          "base_uri": "https://localhost:8080/",
          "height": 641
        },
        "id": "N8j9m8ZbeiGA",
        "outputId": "d255874e-6465-472d-c2fb-a53b037b8b8d"
      },
      "execution_count": null,
      "outputs": [
        {
          "output_type": "execute_result",
          "data": {
            "text/plain": [
              "         index                                              cands  \\\n",
              "0            0                  No acute cardiopulmonary process.   \n",
              "1            0  No acute cardiopulmonary process. Bilateral no...   \n",
              "2            0  1. No acute cardiopulmonary process. 2. Bilate...   \n",
              "3            0                          No evidence of pneumonia.   \n",
              "4            0  1. No acute cardiopulmonary process. 2. Nodula...   \n",
              "...        ...                                                ...   \n",
              "426590  125415  ET and NG tubes positioned appropriately. Biba...   \n",
              "426591  125415          ET and NG tubes positioned appropriately.   \n",
              "426592  125416  1. ET tube terminates approximately 2.9 cm fro...   \n",
              "426593  125416  Interval worsening of the right linear opacifi...   \n",
              "426594  125416   1. ET tube terminates 2.9 cm from the carina. 2.   \n",
              "\n",
              "                                                     refs    scores  \n",
              "0                       No acute cardiopulmonary process.       1.0  \n",
              "1                       No acute cardiopulmonary process.  0.820996  \n",
              "2                       No acute cardiopulmonary process.  0.742021  \n",
              "3                       No acute cardiopulmonary process.  0.346208  \n",
              "4                       No acute cardiopulmonary process.  0.723741  \n",
              "...                                                   ...       ...  \n",
              "426590  Appropriately positioned ET and NG tubes. Biba...  0.931826  \n",
              "426591  Appropriately positioned ET and NG tubes. Biba...  0.565613  \n",
              "426592  Slight interval worsening of right lower lung ...  0.073246  \n",
              "426593  Slight interval worsening of right lower lung ...  0.682224  \n",
              "426594  Slight interval worsening of right lower lung ...  0.104421  \n",
              "\n",
              "[426595 rows x 4 columns]"
            ],
            "text/html": [
              "\n",
              "  <div id=\"df-d5521aa6-162e-491a-9adc-c6073206393b\">\n",
              "    <div class=\"colab-df-container\">\n",
              "      <div>\n",
              "<style scoped>\n",
              "    .dataframe tbody tr th:only-of-type {\n",
              "        vertical-align: middle;\n",
              "    }\n",
              "\n",
              "    .dataframe tbody tr th {\n",
              "        vertical-align: top;\n",
              "    }\n",
              "\n",
              "    .dataframe thead th {\n",
              "        text-align: right;\n",
              "    }\n",
              "</style>\n",
              "<table border=\"1\" class=\"dataframe\">\n",
              "  <thead>\n",
              "    <tr style=\"text-align: right;\">\n",
              "      <th></th>\n",
              "      <th>index</th>\n",
              "      <th>cands</th>\n",
              "      <th>refs</th>\n",
              "      <th>scores</th>\n",
              "    </tr>\n",
              "  </thead>\n",
              "  <tbody>\n",
              "    <tr>\n",
              "      <th>0</th>\n",
              "      <td>0</td>\n",
              "      <td>No acute cardiopulmonary process.</td>\n",
              "      <td>No acute cardiopulmonary process.</td>\n",
              "      <td>1.0</td>\n",
              "    </tr>\n",
              "    <tr>\n",
              "      <th>1</th>\n",
              "      <td>0</td>\n",
              "      <td>No acute cardiopulmonary process. Bilateral no...</td>\n",
              "      <td>No acute cardiopulmonary process.</td>\n",
              "      <td>0.820996</td>\n",
              "    </tr>\n",
              "    <tr>\n",
              "      <th>2</th>\n",
              "      <td>0</td>\n",
              "      <td>1. No acute cardiopulmonary process. 2. Bilate...</td>\n",
              "      <td>No acute cardiopulmonary process.</td>\n",
              "      <td>0.742021</td>\n",
              "    </tr>\n",
              "    <tr>\n",
              "      <th>3</th>\n",
              "      <td>0</td>\n",
              "      <td>No evidence of pneumonia.</td>\n",
              "      <td>No acute cardiopulmonary process.</td>\n",
              "      <td>0.346208</td>\n",
              "    </tr>\n",
              "    <tr>\n",
              "      <th>4</th>\n",
              "      <td>0</td>\n",
              "      <td>1. No acute cardiopulmonary process. 2. Nodula...</td>\n",
              "      <td>No acute cardiopulmonary process.</td>\n",
              "      <td>0.723741</td>\n",
              "    </tr>\n",
              "    <tr>\n",
              "      <th>...</th>\n",
              "      <td>...</td>\n",
              "      <td>...</td>\n",
              "      <td>...</td>\n",
              "      <td>...</td>\n",
              "    </tr>\n",
              "    <tr>\n",
              "      <th>426590</th>\n",
              "      <td>125415</td>\n",
              "      <td>ET and NG tubes positioned appropriately. Biba...</td>\n",
              "      <td>Appropriately positioned ET and NG tubes. Biba...</td>\n",
              "      <td>0.931826</td>\n",
              "    </tr>\n",
              "    <tr>\n",
              "      <th>426591</th>\n",
              "      <td>125415</td>\n",
              "      <td>ET and NG tubes positioned appropriately.</td>\n",
              "      <td>Appropriately positioned ET and NG tubes. Biba...</td>\n",
              "      <td>0.565613</td>\n",
              "    </tr>\n",
              "    <tr>\n",
              "      <th>426592</th>\n",
              "      <td>125416</td>\n",
              "      <td>1. ET tube terminates approximately 2.9 cm fro...</td>\n",
              "      <td>Slight interval worsening of right lower lung ...</td>\n",
              "      <td>0.073246</td>\n",
              "    </tr>\n",
              "    <tr>\n",
              "      <th>426593</th>\n",
              "      <td>125416</td>\n",
              "      <td>Interval worsening of the right linear opacifi...</td>\n",
              "      <td>Slight interval worsening of right lower lung ...</td>\n",
              "      <td>0.682224</td>\n",
              "    </tr>\n",
              "    <tr>\n",
              "      <th>426594</th>\n",
              "      <td>125416</td>\n",
              "      <td>1. ET tube terminates 2.9 cm from the carina. 2.</td>\n",
              "      <td>Slight interval worsening of right lower lung ...</td>\n",
              "      <td>0.104421</td>\n",
              "    </tr>\n",
              "  </tbody>\n",
              "</table>\n",
              "<p>426595 rows × 4 columns</p>\n",
              "</div>\n",
              "      <button class=\"colab-df-convert\" onclick=\"convertToInteractive('df-d5521aa6-162e-491a-9adc-c6073206393b')\"\n",
              "              title=\"Convert this dataframe to an interactive table.\"\n",
              "              style=\"display:none;\">\n",
              "        \n",
              "  <svg xmlns=\"http://www.w3.org/2000/svg\" height=\"24px\"viewBox=\"0 0 24 24\"\n",
              "       width=\"24px\">\n",
              "    <path d=\"M0 0h24v24H0V0z\" fill=\"none\"/>\n",
              "    <path d=\"M18.56 5.44l.94 2.06.94-2.06 2.06-.94-2.06-.94-.94-2.06-.94 2.06-2.06.94zm-11 1L8.5 8.5l.94-2.06 2.06-.94-2.06-.94L8.5 2.5l-.94 2.06-2.06.94zm10 10l.94 2.06.94-2.06 2.06-.94-2.06-.94-.94-2.06-.94 2.06-2.06.94z\"/><path d=\"M17.41 7.96l-1.37-1.37c-.4-.4-.92-.59-1.43-.59-.52 0-1.04.2-1.43.59L10.3 9.45l-7.72 7.72c-.78.78-.78 2.05 0 2.83L4 21.41c.39.39.9.59 1.41.59.51 0 1.02-.2 1.41-.59l7.78-7.78 2.81-2.81c.8-.78.8-2.07 0-2.86zM5.41 20L4 18.59l7.72-7.72 1.47 1.35L5.41 20z\"/>\n",
              "  </svg>\n",
              "      </button>\n",
              "      \n",
              "  <style>\n",
              "    .colab-df-container {\n",
              "      display:flex;\n",
              "      flex-wrap:wrap;\n",
              "      gap: 12px;\n",
              "    }\n",
              "\n",
              "    .colab-df-convert {\n",
              "      background-color: #E8F0FE;\n",
              "      border: none;\n",
              "      border-radius: 50%;\n",
              "      cursor: pointer;\n",
              "      display: none;\n",
              "      fill: #1967D2;\n",
              "      height: 32px;\n",
              "      padding: 0 0 0 0;\n",
              "      width: 32px;\n",
              "    }\n",
              "\n",
              "    .colab-df-convert:hover {\n",
              "      background-color: #E2EBFA;\n",
              "      box-shadow: 0px 1px 2px rgba(60, 64, 67, 0.3), 0px 1px 3px 1px rgba(60, 64, 67, 0.15);\n",
              "      fill: #174EA6;\n",
              "    }\n",
              "\n",
              "    [theme=dark] .colab-df-convert {\n",
              "      background-color: #3B4455;\n",
              "      fill: #D2E3FC;\n",
              "    }\n",
              "\n",
              "    [theme=dark] .colab-df-convert:hover {\n",
              "      background-color: #434B5C;\n",
              "      box-shadow: 0px 1px 3px 1px rgba(0, 0, 0, 0.15);\n",
              "      filter: drop-shadow(0px 1px 2px rgba(0, 0, 0, 0.3));\n",
              "      fill: #FFFFFF;\n",
              "    }\n",
              "  </style>\n",
              "\n",
              "      <script>\n",
              "        const buttonEl =\n",
              "          document.querySelector('#df-d5521aa6-162e-491a-9adc-c6073206393b button.colab-df-convert');\n",
              "        buttonEl.style.display =\n",
              "          google.colab.kernel.accessAllowed ? 'block' : 'none';\n",
              "\n",
              "        async function convertToInteractive(key) {\n",
              "          const element = document.querySelector('#df-d5521aa6-162e-491a-9adc-c6073206393b');\n",
              "          const dataTable =\n",
              "            await google.colab.kernel.invokeFunction('convertToInteractive',\n",
              "                                                     [key], {});\n",
              "          if (!dataTable) return;\n",
              "\n",
              "          const docLinkHtml = 'Like what you see? Visit the ' +\n",
              "            '<a target=\"_blank\" href=https://colab.research.google.com/notebooks/data_table.ipynb>data table notebook</a>'\n",
              "            + ' to learn more about interactive tables.';\n",
              "          element.innerHTML = '';\n",
              "          dataTable['output_type'] = 'display_data';\n",
              "          await google.colab.output.renderOutput(dataTable, element);\n",
              "          const docLink = document.createElement('div');\n",
              "          docLink.innerHTML = docLinkHtml;\n",
              "          element.appendChild(docLink);\n",
              "        }\n",
              "      </script>\n",
              "    </div>\n",
              "  </div>\n",
              "  "
            ]
          },
          "metadata": {},
          "execution_count": 5
        }
      ]
    },
    {
      "cell_type": "code",
      "source": [
        "dfc2 = dfc2.reset_index()\n",
        "dfc2"
      ],
      "metadata": {
        "colab": {
          "base_uri": "https://localhost:8080/",
          "height": 641
        },
        "id": "Jg7-NS8ke_lD",
        "outputId": "29853db9-e035-4298-e90a-a53126214449"
      },
      "execution_count": null,
      "outputs": [
        {
          "output_type": "execute_result",
          "data": {
            "text/plain": [
              "        level_0   index                                              cands  \\\n",
              "0             0       0                  No acute cardiopulmonary process.   \n",
              "1             1       0  No acute cardiopulmonary process. Bilateral no...   \n",
              "2             2       0  1. No acute cardiopulmonary process. 2. Bilate...   \n",
              "3             3       0                          No evidence of pneumonia.   \n",
              "4             4       0  1. No acute cardiopulmonary process. 2. Nodula...   \n",
              "...         ...     ...                                                ...   \n",
              "426590   426590  125415  ET and NG tubes positioned appropriately. Biba...   \n",
              "426591   426591  125415          ET and NG tubes positioned appropriately.   \n",
              "426592   426592  125416  1. ET tube terminates approximately 2.9 cm fro...   \n",
              "426593   426593  125416  Interval worsening of the right linear opacifi...   \n",
              "426594   426594  125416   1. ET tube terminates 2.9 cm from the carina. 2.   \n",
              "\n",
              "                                                     refs    scores  \n",
              "0                       No acute cardiopulmonary process.       1.0  \n",
              "1                       No acute cardiopulmonary process.  0.820996  \n",
              "2                       No acute cardiopulmonary process.  0.742021  \n",
              "3                       No acute cardiopulmonary process.  0.346208  \n",
              "4                       No acute cardiopulmonary process.  0.723741  \n",
              "...                                                   ...       ...  \n",
              "426590  Appropriately positioned ET and NG tubes. Biba...  0.931826  \n",
              "426591  Appropriately positioned ET and NG tubes. Biba...  0.565613  \n",
              "426592  Slight interval worsening of right lower lung ...  0.073246  \n",
              "426593  Slight interval worsening of right lower lung ...  0.682224  \n",
              "426594  Slight interval worsening of right lower lung ...  0.104421  \n",
              "\n",
              "[426595 rows x 5 columns]"
            ],
            "text/html": [
              "\n",
              "  <div id=\"df-e2cc584d-dd58-4dee-9c03-9199d8e90aa9\">\n",
              "    <div class=\"colab-df-container\">\n",
              "      <div>\n",
              "<style scoped>\n",
              "    .dataframe tbody tr th:only-of-type {\n",
              "        vertical-align: middle;\n",
              "    }\n",
              "\n",
              "    .dataframe tbody tr th {\n",
              "        vertical-align: top;\n",
              "    }\n",
              "\n",
              "    .dataframe thead th {\n",
              "        text-align: right;\n",
              "    }\n",
              "</style>\n",
              "<table border=\"1\" class=\"dataframe\">\n",
              "  <thead>\n",
              "    <tr style=\"text-align: right;\">\n",
              "      <th></th>\n",
              "      <th>level_0</th>\n",
              "      <th>index</th>\n",
              "      <th>cands</th>\n",
              "      <th>refs</th>\n",
              "      <th>scores</th>\n",
              "    </tr>\n",
              "  </thead>\n",
              "  <tbody>\n",
              "    <tr>\n",
              "      <th>0</th>\n",
              "      <td>0</td>\n",
              "      <td>0</td>\n",
              "      <td>No acute cardiopulmonary process.</td>\n",
              "      <td>No acute cardiopulmonary process.</td>\n",
              "      <td>1.0</td>\n",
              "    </tr>\n",
              "    <tr>\n",
              "      <th>1</th>\n",
              "      <td>1</td>\n",
              "      <td>0</td>\n",
              "      <td>No acute cardiopulmonary process. Bilateral no...</td>\n",
              "      <td>No acute cardiopulmonary process.</td>\n",
              "      <td>0.820996</td>\n",
              "    </tr>\n",
              "    <tr>\n",
              "      <th>2</th>\n",
              "      <td>2</td>\n",
              "      <td>0</td>\n",
              "      <td>1. No acute cardiopulmonary process. 2. Bilate...</td>\n",
              "      <td>No acute cardiopulmonary process.</td>\n",
              "      <td>0.742021</td>\n",
              "    </tr>\n",
              "    <tr>\n",
              "      <th>3</th>\n",
              "      <td>3</td>\n",
              "      <td>0</td>\n",
              "      <td>No evidence of pneumonia.</td>\n",
              "      <td>No acute cardiopulmonary process.</td>\n",
              "      <td>0.346208</td>\n",
              "    </tr>\n",
              "    <tr>\n",
              "      <th>4</th>\n",
              "      <td>4</td>\n",
              "      <td>0</td>\n",
              "      <td>1. No acute cardiopulmonary process. 2. Nodula...</td>\n",
              "      <td>No acute cardiopulmonary process.</td>\n",
              "      <td>0.723741</td>\n",
              "    </tr>\n",
              "    <tr>\n",
              "      <th>...</th>\n",
              "      <td>...</td>\n",
              "      <td>...</td>\n",
              "      <td>...</td>\n",
              "      <td>...</td>\n",
              "      <td>...</td>\n",
              "    </tr>\n",
              "    <tr>\n",
              "      <th>426590</th>\n",
              "      <td>426590</td>\n",
              "      <td>125415</td>\n",
              "      <td>ET and NG tubes positioned appropriately. Biba...</td>\n",
              "      <td>Appropriately positioned ET and NG tubes. Biba...</td>\n",
              "      <td>0.931826</td>\n",
              "    </tr>\n",
              "    <tr>\n",
              "      <th>426591</th>\n",
              "      <td>426591</td>\n",
              "      <td>125415</td>\n",
              "      <td>ET and NG tubes positioned appropriately.</td>\n",
              "      <td>Appropriately positioned ET and NG tubes. Biba...</td>\n",
              "      <td>0.565613</td>\n",
              "    </tr>\n",
              "    <tr>\n",
              "      <th>426592</th>\n",
              "      <td>426592</td>\n",
              "      <td>125416</td>\n",
              "      <td>1. ET tube terminates approximately 2.9 cm fro...</td>\n",
              "      <td>Slight interval worsening of right lower lung ...</td>\n",
              "      <td>0.073246</td>\n",
              "    </tr>\n",
              "    <tr>\n",
              "      <th>426593</th>\n",
              "      <td>426593</td>\n",
              "      <td>125416</td>\n",
              "      <td>Interval worsening of the right linear opacifi...</td>\n",
              "      <td>Slight interval worsening of right lower lung ...</td>\n",
              "      <td>0.682224</td>\n",
              "    </tr>\n",
              "    <tr>\n",
              "      <th>426594</th>\n",
              "      <td>426594</td>\n",
              "      <td>125416</td>\n",
              "      <td>1. ET tube terminates 2.9 cm from the carina. 2.</td>\n",
              "      <td>Slight interval worsening of right lower lung ...</td>\n",
              "      <td>0.104421</td>\n",
              "    </tr>\n",
              "  </tbody>\n",
              "</table>\n",
              "<p>426595 rows × 5 columns</p>\n",
              "</div>\n",
              "      <button class=\"colab-df-convert\" onclick=\"convertToInteractive('df-e2cc584d-dd58-4dee-9c03-9199d8e90aa9')\"\n",
              "              title=\"Convert this dataframe to an interactive table.\"\n",
              "              style=\"display:none;\">\n",
              "        \n",
              "  <svg xmlns=\"http://www.w3.org/2000/svg\" height=\"24px\"viewBox=\"0 0 24 24\"\n",
              "       width=\"24px\">\n",
              "    <path d=\"M0 0h24v24H0V0z\" fill=\"none\"/>\n",
              "    <path d=\"M18.56 5.44l.94 2.06.94-2.06 2.06-.94-2.06-.94-.94-2.06-.94 2.06-2.06.94zm-11 1L8.5 8.5l.94-2.06 2.06-.94-2.06-.94L8.5 2.5l-.94 2.06-2.06.94zm10 10l.94 2.06.94-2.06 2.06-.94-2.06-.94-.94-2.06-.94 2.06-2.06.94z\"/><path d=\"M17.41 7.96l-1.37-1.37c-.4-.4-.92-.59-1.43-.59-.52 0-1.04.2-1.43.59L10.3 9.45l-7.72 7.72c-.78.78-.78 2.05 0 2.83L4 21.41c.39.39.9.59 1.41.59.51 0 1.02-.2 1.41-.59l7.78-7.78 2.81-2.81c.8-.78.8-2.07 0-2.86zM5.41 20L4 18.59l7.72-7.72 1.47 1.35L5.41 20z\"/>\n",
              "  </svg>\n",
              "      </button>\n",
              "      \n",
              "  <style>\n",
              "    .colab-df-container {\n",
              "      display:flex;\n",
              "      flex-wrap:wrap;\n",
              "      gap: 12px;\n",
              "    }\n",
              "\n",
              "    .colab-df-convert {\n",
              "      background-color: #E8F0FE;\n",
              "      border: none;\n",
              "      border-radius: 50%;\n",
              "      cursor: pointer;\n",
              "      display: none;\n",
              "      fill: #1967D2;\n",
              "      height: 32px;\n",
              "      padding: 0 0 0 0;\n",
              "      width: 32px;\n",
              "    }\n",
              "\n",
              "    .colab-df-convert:hover {\n",
              "      background-color: #E2EBFA;\n",
              "      box-shadow: 0px 1px 2px rgba(60, 64, 67, 0.3), 0px 1px 3px 1px rgba(60, 64, 67, 0.15);\n",
              "      fill: #174EA6;\n",
              "    }\n",
              "\n",
              "    [theme=dark] .colab-df-convert {\n",
              "      background-color: #3B4455;\n",
              "      fill: #D2E3FC;\n",
              "    }\n",
              "\n",
              "    [theme=dark] .colab-df-convert:hover {\n",
              "      background-color: #434B5C;\n",
              "      box-shadow: 0px 1px 3px 1px rgba(0, 0, 0, 0.15);\n",
              "      filter: drop-shadow(0px 1px 2px rgba(0, 0, 0, 0.3));\n",
              "      fill: #FFFFFF;\n",
              "    }\n",
              "  </style>\n",
              "\n",
              "      <script>\n",
              "        const buttonEl =\n",
              "          document.querySelector('#df-e2cc584d-dd58-4dee-9c03-9199d8e90aa9 button.colab-df-convert');\n",
              "        buttonEl.style.display =\n",
              "          google.colab.kernel.accessAllowed ? 'block' : 'none';\n",
              "\n",
              "        async function convertToInteractive(key) {\n",
              "          const element = document.querySelector('#df-e2cc584d-dd58-4dee-9c03-9199d8e90aa9');\n",
              "          const dataTable =\n",
              "            await google.colab.kernel.invokeFunction('convertToInteractive',\n",
              "                                                     [key], {});\n",
              "          if (!dataTable) return;\n",
              "\n",
              "          const docLinkHtml = 'Like what you see? Visit the ' +\n",
              "            '<a target=\"_blank\" href=https://colab.research.google.com/notebooks/data_table.ipynb>data table notebook</a>'\n",
              "            + ' to learn more about interactive tables.';\n",
              "          element.innerHTML = '';\n",
              "          dataTable['output_type'] = 'display_data';\n",
              "          await google.colab.output.renderOutput(dataTable, element);\n",
              "          const docLink = document.createElement('div');\n",
              "          docLink.innerHTML = docLinkHtml;\n",
              "          element.appendChild(docLink);\n",
              "        }\n",
              "      </script>\n",
              "    </div>\n",
              "  </div>\n",
              "  "
            ]
          },
          "metadata": {},
          "execution_count": 6
        }
      ]
    },
    {
      "cell_type": "code",
      "source": [
        "mapper =dict(zip(dfc2['level_0'],dfc2['index']))\n",
        "mapper"
      ],
      "metadata": {
        "id": "0zSrBRxGfwEh"
      },
      "execution_count": null,
      "outputs": []
    },
    {
      "cell_type": "code",
      "source": [
        "im_embeds2 = np.vstack(list(map(lambda x:im_embeds[x,:],list(mapper.values()))))"
      ],
      "metadata": {
        "id": "xS0vV5Fef7he"
      },
      "execution_count": null,
      "outputs": []
    },
    {
      "cell_type": "code",
      "source": [
        "text_embeds.shape"
      ],
      "metadata": {
        "colab": {
          "base_uri": "https://localhost:8080/"
        },
        "id": "DAyU5TtCgDeJ",
        "outputId": "d99f2dd7-fc4d-4ada-9028-e89420aa4e05"
      },
      "execution_count": null,
      "outputs": [
        {
          "output_type": "execute_result",
          "data": {
            "text/plain": [
              "(426595, 768)"
            ]
          },
          "metadata": {},
          "execution_count": 9
        }
      ]
    },
    {
      "cell_type": "code",
      "source": [
        "im_embeds2.shape"
      ],
      "metadata": {
        "colab": {
          "base_uri": "https://localhost:8080/"
        },
        "id": "Lv_1ZFVCg0YA",
        "outputId": "96bafd6d-6540-44f0-ee69-b6ba138132a3"
      },
      "execution_count": null,
      "outputs": [
        {
          "output_type": "execute_result",
          "data": {
            "text/plain": [
              "(426595, 1024)"
            ]
          },
          "metadata": {},
          "execution_count": 10
        }
      ]
    },
    {
      "cell_type": "code",
      "source": [
        "y = np.array(list(dfc2['scores']))"
      ],
      "metadata": {
        "id": "sUqTJ-s4g53Z"
      },
      "execution_count": null,
      "outputs": []
    },
    {
      "cell_type": "code",
      "source": [
        "y.shape"
      ],
      "metadata": {
        "colab": {
          "base_uri": "https://localhost:8080/"
        },
        "id": "Ptp5YQQZijk_",
        "outputId": "300387d0-7dc6-4180-a887-aed2a6f17256"
      },
      "execution_count": null,
      "outputs": [
        {
          "output_type": "execute_result",
          "data": {
            "text/plain": [
              "(426595,)"
            ]
          },
          "metadata": {},
          "execution_count": 12
        }
      ]
    },
    {
      "cell_type": "code",
      "source": [
        "import gc \n",
        "del df_exp\n",
        "del df_cands\n",
        "del im_embeds\n",
        "del dfc2\n",
        "gc.collect()"
      ],
      "metadata": {
        "colab": {
          "base_uri": "https://localhost:8080/"
        },
        "id": "ShUTaV5ViGH5",
        "outputId": "34933b55-9a3f-4cec-e643-81e0ea394141"
      },
      "execution_count": null,
      "outputs": [
        {
          "output_type": "execute_result",
          "data": {
            "text/plain": [
              "204"
            ]
          },
          "metadata": {},
          "execution_count": 11
        }
      ]
    },
    {
      "cell_type": "code",
      "source": [
        "X = np.hstack([text_embeds,im_embeds2])"
      ],
      "metadata": {
        "id": "-e2wYhOqiBB0"
      },
      "execution_count": null,
      "outputs": []
    },
    {
      "cell_type": "code",
      "source": [
        "X.shape "
      ],
      "metadata": {
        "colab": {
          "base_uri": "https://localhost:8080/"
        },
        "id": "w0CM-eOLikgh",
        "outputId": "e56f0369-8d0a-4cb8-c03a-be827681c787"
      },
      "execution_count": null,
      "outputs": [
        {
          "output_type": "execute_result",
          "data": {
            "text/plain": [
              "(426595, 1792)"
            ]
          },
          "metadata": {},
          "execution_count": 14
        }
      ]
    },
    {
      "cell_type": "code",
      "source": [
        "np.savez_compressed('scorer_train_data.npz',a=X)"
      ],
      "metadata": {
        "id": "LY2AD4G1irbc"
      },
      "execution_count": null,
      "outputs": []
    },
    {
      "cell_type": "code",
      "source": [
        "!cp scorer_train_data.npz ./drive/MyDrive/scorer_train_data.npz"
      ],
      "metadata": {
        "id": "OsmGNItckbn1"
      },
      "execution_count": null,
      "outputs": []
    },
    {
      "cell_type": "code",
      "source": [
        "np.savez_compressed('scorer_train_data_targets.npz',a=y)"
      ],
      "metadata": {
        "id": "M-8QjcM3kmdh"
      },
      "execution_count": null,
      "outputs": []
    },
    {
      "cell_type": "code",
      "source": [
        "!cp scorer_train_data_targets.npz ./drive/MyDrive/scorer_train_data_targets.npz"
      ],
      "metadata": {
        "id": "nPb9LRojkvC5"
      },
      "execution_count": null,
      "outputs": []
    },
    {
      "cell_type": "code",
      "source": [],
      "metadata": {
        "id": "Z3JVrrFrmpca"
      },
      "execution_count": null,
      "outputs": []
    }
  ]
}