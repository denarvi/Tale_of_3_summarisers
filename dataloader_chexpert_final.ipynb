{
  "nbformat": 4,
  "nbformat_minor": 0,
  "metadata": {
    "colab": {
      "provenance": []
    },
    "kernelspec": {
      "name": "python3",
      "display_name": "Python 3"
    },
    "language_info": {
      "name": "python"
    },
    "accelerator": "GPU",
    "gpuClass": "standard"
  },
  "cells": [
    {
      "cell_type": "code",
      "execution_count": null,
      "metadata": {
        "colab": {
          "base_uri": "https://localhost:8080/"
        },
        "id": "17E2Ux5hl2CP",
        "outputId": "93650115-47f6-4945-8022-136be172c801"
      },
      "outputs": [
        {
          "output_type": "stream",
          "name": "stdout",
          "text": [
            "Mounted at /content/drive\n",
            "Looking in indexes: https://pypi.org/simple, https://us-python.pkg.dev/colab-wheels/public/simple/\n",
            "Collecting torchxrayvision\n",
            "  Downloading torchxrayvision-1.0.1-py3-none-any.whl (29.0 MB)\n",
            "\u001b[2K     \u001b[90m━━━━━━━━━━━━━━━━━━━━━━━━━━━━━━━━━━━━━━━━\u001b[0m \u001b[32m29.0/29.0 MB\u001b[0m \u001b[31m35.4 MB/s\u001b[0m eta \u001b[36m0:00:00\u001b[0m\n",
            "\u001b[?25hRequirement already satisfied: torchvision>=0.5 in /usr/local/lib/python3.10/dist-packages (from torchxrayvision) (0.15.1+cu118)\n",
            "Requirement already satisfied: numpy>=1 in /usr/local/lib/python3.10/dist-packages (from torchxrayvision) (1.22.4)\n",
            "Requirement already satisfied: torch>=1 in /usr/local/lib/python3.10/dist-packages (from torchxrayvision) (2.0.0+cu118)\n",
            "Requirement already satisfied: pandas>=1 in /usr/local/lib/python3.10/dist-packages (from torchxrayvision) (1.5.3)\n",
            "Requirement already satisfied: scikit-image>=0.16 in /usr/local/lib/python3.10/dist-packages (from torchxrayvision) (0.19.3)\n",
            "Requirement already satisfied: tqdm>=4 in /usr/local/lib/python3.10/dist-packages (from torchxrayvision) (4.65.0)\n",
            "Requirement already satisfied: requests>=1 in /usr/local/lib/python3.10/dist-packages (from torchxrayvision) (2.27.1)\n",
            "Requirement already satisfied: pillow>=5.3.0 in /usr/local/lib/python3.10/dist-packages (from torchxrayvision) (8.4.0)\n",
            "Requirement already satisfied: pytz>=2020.1 in /usr/local/lib/python3.10/dist-packages (from pandas>=1->torchxrayvision) (2022.7.1)\n",
            "Requirement already satisfied: python-dateutil>=2.8.1 in /usr/local/lib/python3.10/dist-packages (from pandas>=1->torchxrayvision) (2.8.2)\n",
            "Requirement already satisfied: charset-normalizer~=2.0.0 in /usr/local/lib/python3.10/dist-packages (from requests>=1->torchxrayvision) (2.0.12)\n",
            "Requirement already satisfied: urllib3<1.27,>=1.21.1 in /usr/local/lib/python3.10/dist-packages (from requests>=1->torchxrayvision) (1.26.15)\n",
            "Requirement already satisfied: idna<4,>=2.5 in /usr/local/lib/python3.10/dist-packages (from requests>=1->torchxrayvision) (3.4)\n",
            "Requirement already satisfied: certifi>=2017.4.17 in /usr/local/lib/python3.10/dist-packages (from requests>=1->torchxrayvision) (2022.12.7)\n",
            "Requirement already satisfied: tifffile>=2019.7.26 in /usr/local/lib/python3.10/dist-packages (from scikit-image>=0.16->torchxrayvision) (2023.4.12)\n",
            "Requirement already satisfied: networkx>=2.2 in /usr/local/lib/python3.10/dist-packages (from scikit-image>=0.16->torchxrayvision) (3.1)\n",
            "Requirement already satisfied: packaging>=20.0 in /usr/local/lib/python3.10/dist-packages (from scikit-image>=0.16->torchxrayvision) (23.1)\n",
            "Requirement already satisfied: imageio>=2.4.1 in /usr/local/lib/python3.10/dist-packages (from scikit-image>=0.16->torchxrayvision) (2.25.1)\n",
            "Requirement already satisfied: scipy>=1.4.1 in /usr/local/lib/python3.10/dist-packages (from scikit-image>=0.16->torchxrayvision) (1.10.1)\n",
            "Requirement already satisfied: PyWavelets>=1.1.1 in /usr/local/lib/python3.10/dist-packages (from scikit-image>=0.16->torchxrayvision) (1.4.1)\n",
            "Requirement already satisfied: jinja2 in /usr/local/lib/python3.10/dist-packages (from torch>=1->torchxrayvision) (3.1.2)\n",
            "Requirement already satisfied: triton==2.0.0 in /usr/local/lib/python3.10/dist-packages (from torch>=1->torchxrayvision) (2.0.0)\n",
            "Requirement already satisfied: typing-extensions in /usr/local/lib/python3.10/dist-packages (from torch>=1->torchxrayvision) (4.5.0)\n",
            "Requirement already satisfied: filelock in /usr/local/lib/python3.10/dist-packages (from torch>=1->torchxrayvision) (3.12.0)\n",
            "Requirement already satisfied: sympy in /usr/local/lib/python3.10/dist-packages (from torch>=1->torchxrayvision) (1.11.1)\n",
            "Requirement already satisfied: cmake in /usr/local/lib/python3.10/dist-packages (from triton==2.0.0->torch>=1->torchxrayvision) (3.25.2)\n",
            "Requirement already satisfied: lit in /usr/local/lib/python3.10/dist-packages (from triton==2.0.0->torch>=1->torchxrayvision) (16.0.2)\n",
            "Requirement already satisfied: six>=1.5 in /usr/local/lib/python3.10/dist-packages (from python-dateutil>=2.8.1->pandas>=1->torchxrayvision) (1.16.0)\n",
            "Requirement already satisfied: MarkupSafe>=2.0 in /usr/local/lib/python3.10/dist-packages (from jinja2->torch>=1->torchxrayvision) (2.1.2)\n",
            "Requirement already satisfied: mpmath>=0.19 in /usr/local/lib/python3.10/dist-packages (from sympy->torch>=1->torchxrayvision) (1.3.0)\n",
            "Installing collected packages: torchxrayvision\n",
            "Successfully installed torchxrayvision-1.0.1\n"
          ]
        }
      ],
      "source": [
        "from google.colab import drive\n",
        "drive.mount('/content/drive')\n",
        "!pip install torchxrayvision\n",
        "!cp ./drive/MyDrive/mimic-cxr/rrs-mimic-cxr.zip rrs-mimic-cxr.zip\n",
        "!unzip -q rrs-mimic-cxr.zip"
      ]
    },
    {
      "cell_type": "code",
      "source": [
        "import numpy as np\n",
        "import pandas as pd\n",
        "import torch, torchvision\n",
        "import torchxrayvision as xrv\n",
        "import skimage, skimage.io\n",
        "from torch.utils.data import Dataset, DataLoader\n",
        "\n",
        "class CXRDataset(Dataset):\n",
        "    def __init__(self, csv_file,start_idx):\n",
        "        df1 = pd.read_csv(csv_file,sep='\\t',header=None)\n",
        "        df1.columns = ['images']\n",
        "        df1['images'] = df1['images'].apply(lambda x:list(x.split(\",\")))\n",
        "        df1 = df1.explode('images',ignore_index=True)\n",
        "        self.data = df1.iloc[start_idx:,:].reset_index(drop=True)\n",
        "\n",
        "        self.transform = torchvision.transforms.Compose([xrv.datasets.XRayCenterCrop(),\n",
        "                                            xrv.datasets.XRayResizer(224)])\n",
        "\n",
        "        # self.transform = preprocess\n",
        "    \n",
        "    def __len__(self):\n",
        "        return len(self.data)\n",
        "        \n",
        "    def __getitem__(self, idx):\n",
        "        \n",
        "        img = skimage.io.imread(self.data.loc[idx,'images'])\n",
        "        img = xrv.datasets.normalize(img,255)\n",
        "        #img = img[:, :, 0]\n",
        "        img = img[None, :, :]\n",
        "        if self.transform is not None:\n",
        "          x = self.transform(img)\n",
        "        return x"
      ],
      "metadata": {
        "id": "h2HY1iMNqty9"
      },
      "execution_count": null,
      "outputs": []
    },
    {
      "cell_type": "code",
      "source": [
        "img_dataset = CXRDataset('/content/train.image.tok',230400)\n",
        "\n",
        "dataloader = DataLoader(img_dataset, batch_size=128)"
      ],
      "metadata": {
        "id": "1cJBh5aRqua1"
      },
      "execution_count": null,
      "outputs": []
    },
    {
      "cell_type": "code",
      "source": [
        "model = xrv.models.DenseNet(weights=\"densenet121-res224-chex\")\n"
      ],
      "metadata": {
        "id": "su1s-7yoq0y3",
        "colab": {
          "base_uri": "https://localhost:8080/"
        },
        "outputId": "041a9638-4b40-477e-b582-e4a31ebab35a"
      },
      "execution_count": null,
      "outputs": [
        {
          "output_type": "stream",
          "name": "stdout",
          "text": [
            "Downloading weights...\n",
            "If this fails you can run `wget https://github.com/mlmed/torchxrayvision/releases/download/v1/chex-densenet121-d121-tw-lr001-rot45-tr15-sc15-seed0-best.pt -O /root/.torchxrayvision/models_data/chex-densenet121-d121-tw-lr001-rot45-tr15-sc15-seed0-best.pt`\n",
            "[██████████████████████████████████████████████████]\n"
          ]
        }
      ]
    },
    {
      "cell_type": "code",
      "source": [
        "from tqdm import tqdm\n",
        "tqdm.pandas()\n",
        "import torch.nn.functional as F\n",
        "model.to(device='cuda')"
      ],
      "metadata": {
        "colab": {
          "base_uri": "https://localhost:8080/"
        },
        "id": "MrlqGTP8tPp1",
        "outputId": "71b41ce7-6053-41a8-b5ea-20bf1468109a"
      },
      "execution_count": null,
      "outputs": [
        {
          "output_type": "execute_result",
          "data": {
            "text/plain": [
              "XRV-DenseNet121-densenet121-res224-chex"
            ]
          },
          "metadata": {},
          "execution_count": 5
        }
      ]
    },
    {
      "cell_type": "code",
      "source": [
        "res = np.zeros((1,1024)) #np.array([[-1,-1,-1,-1]])\n",
        "\n",
        "i = 0\n",
        "for batch in tqdm(dataloader):\n",
        "  with torch.no_grad():\n",
        "    feats = model.features(batch.to(device='cuda'))\n",
        "    feats = F.relu(feats, inplace=True)\n",
        "    feats = F.adaptive_avg_pool2d(feats, (1, 1))\n",
        "    res = np.vstack([res,feats.cpu().detach().numpy().reshape(batch.shape[0],-1)])\n",
        "    i+=1"
      ],
      "metadata": {
        "colab": {
          "base_uri": "https://localhost:8080/"
        },
        "id": "-7OMYU34q4Ff",
        "outputId": "2bafcf16-4c3e-45d4-c004-90e701cb9ef9"
      },
      "execution_count": null,
      "outputs": [
        {
          "output_type": "stream",
          "name": "stderr",
          "text": [
            "100%|██████████| 20/20 [00:47<00:00,  2.36s/it]\n"
          ]
        }
      ]
    },
    {
      "cell_type": "code",
      "source": [
        "np.savez_compressed('chexpert_embeddings_train_p2.npz',a=res)"
      ],
      "metadata": {
        "id": "iIf6U5jSL1Bd"
      },
      "execution_count": null,
      "outputs": []
    },
    {
      "cell_type": "code",
      "source": [
        "!cp chexpert_embeddings_train_p2.npz ./drive/MyDrive/chexpert_embeddings_train_p2.npz"
      ],
      "metadata": {
        "id": "l5YSYi11QFYn"
      },
      "execution_count": null,
      "outputs": []
    },
    {
      "cell_type": "code",
      "source": [
        "!cp ./drive/MyDrive/chexpert_embeddings.npz chexpert_embeddings.npz "
      ],
      "metadata": {
        "id": "hDatrNwPO_-q"
      },
      "execution_count": null,
      "outputs": []
    },
    {
      "cell_type": "code",
      "source": [
        "prev_res = np.load('chexpert_embeddings.npz')['a']\n",
        "prev_res.shape"
      ],
      "metadata": {
        "colab": {
          "base_uri": "https://localhost:8080/"
        },
        "id": "A_O3W6dSRvGi",
        "outputId": "a408faf5-d771-411c-c0af-c723f6e5c2ce"
      },
      "execution_count": null,
      "outputs": [
        {
          "output_type": "execute_result",
          "data": {
            "text/plain": [
              "(230401, 1024)"
            ]
          },
          "metadata": {},
          "execution_count": 9
        }
      ]
    },
    {
      "cell_type": "code",
      "source": [
        "final_embed = np.vstack([prev_res[1::],res[1:,:]])\n",
        "final_embed.shape"
      ],
      "metadata": {
        "colab": {
          "base_uri": "https://localhost:8080/"
        },
        "id": "0U1zAFgOSA3U",
        "outputId": "404e8fd4-4ca4-4ad3-f07b-b386c8ec29ed"
      },
      "execution_count": null,
      "outputs": [
        {
          "output_type": "execute_result",
          "data": {
            "text/plain": [
              "(232855, 1024)"
            ]
          },
          "metadata": {},
          "execution_count": 10
        }
      ]
    },
    {
      "cell_type": "code",
      "source": [
        "np.savez_compressed('chexpert_embeddings_train.npz',a=final_embed)"
      ],
      "metadata": {
        "id": "fTo3YhYASOMv"
      },
      "execution_count": null,
      "outputs": []
    },
    {
      "cell_type": "code",
      "source": [
        "!cp chexpert_embeddings_train.npz ./drive/MyDrive/chexpert_embeddings_train.npz"
      ],
      "metadata": {
        "id": "PcZj2jFiSTPr"
      },
      "execution_count": null,
      "outputs": []
    },
    {
      "cell_type": "code",
      "source": [
        "230400/3072"
      ],
      "metadata": {
        "colab": {
          "base_uri": "https://localhost:8080/"
        },
        "id": "YC7oQeAeR8gI",
        "outputId": "cd72c9a9-e8c2-40d1-85ee-c7ee45182df9"
      },
      "execution_count": null,
      "outputs": [
        {
          "output_type": "execute_result",
          "data": {
            "text/plain": [
              "75.0"
            ]
          },
          "metadata": {},
          "execution_count": 28
        }
      ]
    },
    {
      "cell_type": "code",
      "source": [
        "df1 = pd.read_csv('train.image.tok',sep='\\t',header=None)\n",
        "df1.columns = ['images']\n",
        "df1['images'] = df1['images'].apply(lambda x:list(x.split(\",\")))\n",
        "df1 = df1.explode('images',ignore_index=True)\n",
        "df1"
      ],
      "metadata": {
        "colab": {
          "base_uri": "https://localhost:8080/",
          "height": 423
        },
        "id": "sPvPdVdZSoSa",
        "outputId": "4316bc6f-1338-4012-f34e-0dda85a6d09e"
      },
      "execution_count": null,
      "outputs": [
        {
          "output_type": "execute_result",
          "data": {
            "text/plain": [
              "                                                   images\n",
              "0       mimic-cxr-images-512/files/p10/p10000032/s5041...\n",
              "1       mimic-cxr-images-512/files/p10/p10000032/s5041...\n",
              "2       mimic-cxr-images-512/files/p10/p10000032/s5318...\n",
              "3       mimic-cxr-images-512/files/p10/p10000032/s5318...\n",
              "4       mimic-cxr-images-512/files/p10/p10000032/s5391...\n",
              "...                                                   ...\n",
              "232850  mimic-cxr-images-512/files/p19/p19999733/s5713...\n",
              "232851  mimic-cxr-images-512/files/p19/p19999733/s5713...\n",
              "232852  mimic-cxr-images-512/files/p19/p19999733/s5713...\n",
              "232853  mimic-cxr-images-512/files/p19/p19999987/s5862...\n",
              "232854  mimic-cxr-images-512/files/p19/p19999987/s5897...\n",
              "\n",
              "[232855 rows x 1 columns]"
            ],
            "text/html": [
              "\n",
              "  <div id=\"df-7dd931d5-3c9d-49e3-b3e4-20009dd5ba18\">\n",
              "    <div class=\"colab-df-container\">\n",
              "      <div>\n",
              "<style scoped>\n",
              "    .dataframe tbody tr th:only-of-type {\n",
              "        vertical-align: middle;\n",
              "    }\n",
              "\n",
              "    .dataframe tbody tr th {\n",
              "        vertical-align: top;\n",
              "    }\n",
              "\n",
              "    .dataframe thead th {\n",
              "        text-align: right;\n",
              "    }\n",
              "</style>\n",
              "<table border=\"1\" class=\"dataframe\">\n",
              "  <thead>\n",
              "    <tr style=\"text-align: right;\">\n",
              "      <th></th>\n",
              "      <th>images</th>\n",
              "    </tr>\n",
              "  </thead>\n",
              "  <tbody>\n",
              "    <tr>\n",
              "      <th>0</th>\n",
              "      <td>mimic-cxr-images-512/files/p10/p10000032/s5041...</td>\n",
              "    </tr>\n",
              "    <tr>\n",
              "      <th>1</th>\n",
              "      <td>mimic-cxr-images-512/files/p10/p10000032/s5041...</td>\n",
              "    </tr>\n",
              "    <tr>\n",
              "      <th>2</th>\n",
              "      <td>mimic-cxr-images-512/files/p10/p10000032/s5318...</td>\n",
              "    </tr>\n",
              "    <tr>\n",
              "      <th>3</th>\n",
              "      <td>mimic-cxr-images-512/files/p10/p10000032/s5318...</td>\n",
              "    </tr>\n",
              "    <tr>\n",
              "      <th>4</th>\n",
              "      <td>mimic-cxr-images-512/files/p10/p10000032/s5391...</td>\n",
              "    </tr>\n",
              "    <tr>\n",
              "      <th>...</th>\n",
              "      <td>...</td>\n",
              "    </tr>\n",
              "    <tr>\n",
              "      <th>232850</th>\n",
              "      <td>mimic-cxr-images-512/files/p19/p19999733/s5713...</td>\n",
              "    </tr>\n",
              "    <tr>\n",
              "      <th>232851</th>\n",
              "      <td>mimic-cxr-images-512/files/p19/p19999733/s5713...</td>\n",
              "    </tr>\n",
              "    <tr>\n",
              "      <th>232852</th>\n",
              "      <td>mimic-cxr-images-512/files/p19/p19999733/s5713...</td>\n",
              "    </tr>\n",
              "    <tr>\n",
              "      <th>232853</th>\n",
              "      <td>mimic-cxr-images-512/files/p19/p19999987/s5862...</td>\n",
              "    </tr>\n",
              "    <tr>\n",
              "      <th>232854</th>\n",
              "      <td>mimic-cxr-images-512/files/p19/p19999987/s5897...</td>\n",
              "    </tr>\n",
              "  </tbody>\n",
              "</table>\n",
              "<p>232855 rows × 1 columns</p>\n",
              "</div>\n",
              "      <button class=\"colab-df-convert\" onclick=\"convertToInteractive('df-7dd931d5-3c9d-49e3-b3e4-20009dd5ba18')\"\n",
              "              title=\"Convert this dataframe to an interactive table.\"\n",
              "              style=\"display:none;\">\n",
              "        \n",
              "  <svg xmlns=\"http://www.w3.org/2000/svg\" height=\"24px\"viewBox=\"0 0 24 24\"\n",
              "       width=\"24px\">\n",
              "    <path d=\"M0 0h24v24H0V0z\" fill=\"none\"/>\n",
              "    <path d=\"M18.56 5.44l.94 2.06.94-2.06 2.06-.94-2.06-.94-.94-2.06-.94 2.06-2.06.94zm-11 1L8.5 8.5l.94-2.06 2.06-.94-2.06-.94L8.5 2.5l-.94 2.06-2.06.94zm10 10l.94 2.06.94-2.06 2.06-.94-2.06-.94-.94-2.06-.94 2.06-2.06.94z\"/><path d=\"M17.41 7.96l-1.37-1.37c-.4-.4-.92-.59-1.43-.59-.52 0-1.04.2-1.43.59L10.3 9.45l-7.72 7.72c-.78.78-.78 2.05 0 2.83L4 21.41c.39.39.9.59 1.41.59.51 0 1.02-.2 1.41-.59l7.78-7.78 2.81-2.81c.8-.78.8-2.07 0-2.86zM5.41 20L4 18.59l7.72-7.72 1.47 1.35L5.41 20z\"/>\n",
              "  </svg>\n",
              "      </button>\n",
              "      \n",
              "  <style>\n",
              "    .colab-df-container {\n",
              "      display:flex;\n",
              "      flex-wrap:wrap;\n",
              "      gap: 12px;\n",
              "    }\n",
              "\n",
              "    .colab-df-convert {\n",
              "      background-color: #E8F0FE;\n",
              "      border: none;\n",
              "      border-radius: 50%;\n",
              "      cursor: pointer;\n",
              "      display: none;\n",
              "      fill: #1967D2;\n",
              "      height: 32px;\n",
              "      padding: 0 0 0 0;\n",
              "      width: 32px;\n",
              "    }\n",
              "\n",
              "    .colab-df-convert:hover {\n",
              "      background-color: #E2EBFA;\n",
              "      box-shadow: 0px 1px 2px rgba(60, 64, 67, 0.3), 0px 1px 3px 1px rgba(60, 64, 67, 0.15);\n",
              "      fill: #174EA6;\n",
              "    }\n",
              "\n",
              "    [theme=dark] .colab-df-convert {\n",
              "      background-color: #3B4455;\n",
              "      fill: #D2E3FC;\n",
              "    }\n",
              "\n",
              "    [theme=dark] .colab-df-convert:hover {\n",
              "      background-color: #434B5C;\n",
              "      box-shadow: 0px 1px 3px 1px rgba(0, 0, 0, 0.15);\n",
              "      filter: drop-shadow(0px 1px 2px rgba(0, 0, 0, 0.3));\n",
              "      fill: #FFFFFF;\n",
              "    }\n",
              "  </style>\n",
              "\n",
              "      <script>\n",
              "        const buttonEl =\n",
              "          document.querySelector('#df-7dd931d5-3c9d-49e3-b3e4-20009dd5ba18 button.colab-df-convert');\n",
              "        buttonEl.style.display =\n",
              "          google.colab.kernel.accessAllowed ? 'block' : 'none';\n",
              "\n",
              "        async function convertToInteractive(key) {\n",
              "          const element = document.querySelector('#df-7dd931d5-3c9d-49e3-b3e4-20009dd5ba18');\n",
              "          const dataTable =\n",
              "            await google.colab.kernel.invokeFunction('convertToInteractive',\n",
              "                                                     [key], {});\n",
              "          if (!dataTable) return;\n",
              "\n",
              "          const docLinkHtml = 'Like what you see? Visit the ' +\n",
              "            '<a target=\"_blank\" href=https://colab.research.google.com/notebooks/data_table.ipynb>data table notebook</a>'\n",
              "            + ' to learn more about interactive tables.';\n",
              "          element.innerHTML = '';\n",
              "          dataTable['output_type'] = 'display_data';\n",
              "          await google.colab.output.renderOutput(dataTable, element);\n",
              "          const docLink = document.createElement('div');\n",
              "          docLink.innerHTML = docLinkHtml;\n",
              "          element.appendChild(docLink);\n",
              "        }\n",
              "      </script>\n",
              "    </div>\n",
              "  </div>\n",
              "  "
            ]
          },
          "metadata": {},
          "execution_count": 41
        }
      ]
    },
    {
      "cell_type": "code",
      "source": [],
      "metadata": {
        "id": "6IhLyIwsVZjx"
      },
      "execution_count": null,
      "outputs": []
    }
  ]
}